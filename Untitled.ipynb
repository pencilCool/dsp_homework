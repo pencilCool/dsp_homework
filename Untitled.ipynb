{
 "cells": [
  {
   "cell_type": "code",
   "execution_count": 2,
   "id": "4a733afd",
   "metadata": {},
   "outputs": [
    {
     "name": "stdout",
     "output_type": "stream",
     "text": [
      "/Users/yuhuatang/.rbenv/shims:/Users/yuhuatang/Library/Android/sdk/emulator:/Users/yuhuatang/Library/Android/sdk/tools:/Users/yuhuatang/.nvm/versions/node/v16.3.0/bin:/usr/local/bin:/Users/yuhuatang/.pyenv/bin:/usr/local/opt/ruby/bin:/usr/local/lib/ruby/gems/2.7.0/bin:/usr/local/sbin:/usr/local/bin:/Users/yuhuatang/.rbenv/shims:/Users/yuhuatang/Library/Android/sdk/emulator:/Users/yuhuatang/Library/Android/sdk/tools:/Users/yuhuatang/.nvm/versions/node/v16.3.0/bin:/usr/local/bin:/Users/yuhuatang/.pyenv/bin:/usr/local/opt/ruby/bin:/usr/local/lib/ruby/gems/2.7.0/bin:/usr/local/sbin:/usr/local/bin:/Library/Frameworks/Python.framework/Versions/2.7/bin:/usr/local/bin:/usr/bin:/bin:/usr/sbin:/sbin:/usr/local/go/bin:/Library/Apple/usr/bin:/Library/Frameworks/Mono.framework/Versions/Current/Commands:/Users/yuhuatang/.cargo/bin:/Users/yuhuatang/pencilCool/flutter/bin:/usr/local/go/bin:/Users/yuhuatang/code/sany_test/auto_test_web:/Users/yuhuatang/pencilCool/flutter/bin:/usr/local/go/bin:/Users/yuhuatang/code/sany_test/auto_test_web\r\n"
     ]
    }
   ],
   "source": [
    "!echo $PATH"
   ]
  },
  {
   "cell_type": "code",
   "execution_count": 3,
   "id": "13ba6949",
   "metadata": {},
   "outputs": [
    {
     "name": "stdout",
     "output_type": "stream",
     "text": [
      "python is /usr/local/bin/python\r\n"
     ]
    }
   ],
   "source": [
    "!type python"
   ]
  },
  {
   "cell_type": "code",
   "execution_count": 4,
   "id": "60a4ac96",
   "metadata": {},
   "outputs": [
    {
     "name": "stdout",
     "output_type": "stream",
     "text": [
      "ls is /bin/ls\r\n"
     ]
    }
   ],
   "source": [
    "!type ls"
   ]
  },
  {
   "cell_type": "code",
   "execution_count": 5,
   "id": "fe04bd9d",
   "metadata": {},
   "outputs": [
    {
     "name": "stdout",
     "output_type": "stream",
     "text": [
      "type is a shell builtin\r\n"
     ]
    }
   ],
   "source": [
    "!type type"
   ]
  },
  {
   "cell_type": "code",
   "execution_count": 6,
   "id": "a4603184",
   "metadata": {},
   "outputs": [
    {
     "name": "stdout",
     "output_type": "stream",
     "text": [
      "python is /usr/local/bin/python\r\n",
      "python is /usr/local/bin/python\r\n",
      "python is /usr/local/bin/python\r\n",
      "python is /usr/local/bin/python\r\n",
      "python is /Library/Frameworks/Python.framework/Versions/2.7/bin/python\r\n",
      "python is /usr/local/bin/python\r\n"
     ]
    }
   ],
   "source": [
    "!type -a python "
   ]
  },
  {
   "cell_type": "code",
   "execution_count": 8,
   "id": "bf50dbae",
   "metadata": {},
   "outputs": [
    {
     "name": "stdout",
     "output_type": "stream",
     "text": [
      "pip is /usr/local/bin/pip\r\n",
      "pip is /usr/local/bin/pip\r\n",
      "pip is /usr/local/bin/pip\r\n",
      "pip is /usr/local/bin/pip\r\n",
      "pip is /Library/Frameworks/Python.framework/Versions/2.7/bin/pip\r\n",
      "pip is /usr/local/bin/pip\r\n"
     ]
    }
   ],
   "source": [
    "!type -a pip"
   ]
  },
  {
   "cell_type": "code",
   "execution_count": null,
   "id": "da5add00",
   "metadata": {},
   "outputs": [],
   "source": []
  }
 ],
 "metadata": {
  "kernelspec": {
   "display_name": "Python 3 (ipykernel)",
   "language": "python",
   "name": "python3"
  },
  "language_info": {
   "codemirror_mode": {
    "name": "ipython",
    "version": 3
   },
   "file_extension": ".py",
   "mimetype": "text/x-python",
   "name": "python",
   "nbconvert_exporter": "python",
   "pygments_lexer": "ipython3",
   "version": "3.9.13"
  }
 },
 "nbformat": 4,
 "nbformat_minor": 5
}
